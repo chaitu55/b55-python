{
 "cells": [
  {
   "cell_type": "code",
   "execution_count": 1,
   "id": "5dd66c56",
   "metadata": {},
   "outputs": [],
   "source": [
    "# day 7  20/1 task"
   ]
  },
  {
   "cell_type": "code",
   "execution_count": 2,
   "id": "9ff7c504",
   "metadata": {},
   "outputs": [],
   "source": [
    "magicians=['Alice', 'David', 'Carolina']"
   ]
  },
  {
   "cell_type": "code",
   "execution_count": 3,
   "id": "4eff05ff",
   "metadata": {},
   "outputs": [
    {
     "name": "stdout",
     "output_type": "stream",
     "text": [
      "Alice, that was a great trick\n",
      "David, that was a great trick\n",
      "Carolina, that was a great trick\n"
     ]
    }
   ],
   "source": [
    "for x in magicians:\n",
    "    print(f\"{x.title()}, that was a great trick\")"
   ]
  },
  {
   "cell_type": "code",
   "execution_count": 4,
   "id": "d17287e0",
   "metadata": {},
   "outputs": [
    {
     "name": "stdout",
     "output_type": "stream",
     "text": [
      "Alice, that was a great trick\n",
      " i cant wait to see your next trick,Alice\n",
      "David, that was a great trick\n",
      " i cant wait to see your next trick,David\n",
      "Carolina, that was a great trick\n",
      " i cant wait to see your next trick,Carolina\n"
     ]
    }
   ],
   "source": [
    "for x in magicians:\n",
    "    print(f\"{x.title()}, that was a great trick\")\n",
    "    print(f\" i cant wait to see your next trick,{x.title()}\")\n"
   ]
  },
  {
   "cell_type": "code",
   "execution_count": 5,
   "id": "b524eee9",
   "metadata": {
    "scrolled": true
   },
   "outputs": [
    {
     "name": "stdout",
     "output_type": "stream",
     "text": [
      "Alice, that was a great trick\n",
      " i cant wait to see your next trick,Alice\n",
      "\n",
      "David, that was a great trick\n",
      " i cant wait to see your next trick,David\n",
      "\n",
      "Carolina, that was a great trick\n",
      " i cant wait to see your next trick,Carolina\n",
      "\n"
     ]
    }
   ],
   "source": [
    "for x in magicians:    \n",
    "    print(f\"{x.title()}, that was a great trick\")    \n",
    "    print(f\" i cant wait to see your next trick,{x.title()}\\n\")\n"
   ]
  },
  {
   "cell_type": "code",
   "execution_count": 7,
   "id": "260a8c91",
   "metadata": {},
   "outputs": [
    {
     "name": "stdout",
     "output_type": "stream",
     "text": [
      "Alice, that was a great trick\n",
      " i cant wait to see your next trick,Alice\n",
      "\n",
      "Thank you all for joining in the show today night\n",
      "David, that was a great trick\n",
      " i cant wait to see your next trick,David\n",
      "\n",
      "Thank you all for joining in the show today night\n",
      "Carolina, that was a great trick\n",
      " i cant wait to see your next trick,Carolina\n",
      "\n",
      "Thank you all for joining in the show today night\n"
     ]
    }
   ],
   "source": [
    "for x in magicians: \n",
    "    print(f\"{x.title()}, that was a great trick\")\n",
    "    print(f\" i cant wait to see your next trick,{x.title()}\\n\")\n",
    "    print(\"Thank you all for joining in the show today night\")\n"
   ]
  },
  {
   "cell_type": "code",
   "execution_count": 8,
   "id": "bcf86977",
   "metadata": {},
   "outputs": [],
   "source": [
    "# Range function"
   ]
  },
  {
   "cell_type": "code",
   "execution_count": 9,
   "id": "b3f808ec",
   "metadata": {},
   "outputs": [
    {
     "name": "stdout",
     "output_type": "stream",
     "text": [
      "1\n",
      "2\n",
      "3\n",
      "4\n",
      "5\n",
      "6\n",
      "7\n",
      "8\n",
      "9\n",
      "10\n",
      "11\n",
      "12\n",
      "13\n",
      "14\n",
      "15\n",
      "16\n",
      "17\n",
      "18\n",
      "19\n"
     ]
    }
   ],
   "source": [
    "for value in range(1,20): \n",
    "    print(value)"
   ]
  },
  {
   "cell_type": "code",
   "execution_count": 10,
   "id": "839eb4cc",
   "metadata": {},
   "outputs": [
    {
     "name": "stdout",
     "output_type": "stream",
     "text": [
      "1\n",
      "2\n",
      "3\n",
      "4\n",
      "5\n",
      "6\n",
      "7\n",
      "8\n",
      "9\n",
      "10\n",
      "11\n",
      "12\n",
      "13\n",
      "14\n",
      "15\n",
      "16\n",
      "17\n",
      "18\n",
      "19\n",
      "20\n"
     ]
    }
   ],
   "source": [
    "for value in range(1,21):\n",
    "    print(value)\n"
   ]
  },
  {
   "cell_type": "code",
   "execution_count": 11,
   "id": "f3e9adb4",
   "metadata": {},
   "outputs": [],
   "source": [
    "# to make a list of numbers 20"
   ]
  },
  {
   "cell_type": "code",
   "execution_count": 12,
   "id": "a346673d",
   "metadata": {},
   "outputs": [
    {
     "name": "stdout",
     "output_type": "stream",
     "text": [
      "[1, 2, 3, 4, 5, 6, 7, 8, 9, 10, 11, 12, 13, 14, 15, 16, 17, 18, 19, 20]\n"
     ]
    }
   ],
   "source": [
    "numbers=list(range(1,21))\n",
    "print(numbers)"
   ]
  },
  {
   "cell_type": "code",
   "execution_count": 13,
   "id": "83aef940",
   "metadata": {},
   "outputs": [],
   "source": [
    "# to print only even numbers"
   ]
  },
  {
   "cell_type": "code",
   "execution_count": 14,
   "id": "57407aa2",
   "metadata": {},
   "outputs": [
    {
     "name": "stdout",
     "output_type": "stream",
     "text": [
      "[2, 4, 6, 8, 10, 12, 14, 16, 18]\n"
     ]
    }
   ],
   "source": [
    "eve_numbers=list(range(2,20,2))\n",
    "print(eve_numbers)"
   ]
  },
  {
   "cell_type": "code",
   "execution_count": 15,
   "id": "04ed6410",
   "metadata": {},
   "outputs": [],
   "source": [
    "# odd numbers"
   ]
  },
  {
   "cell_type": "code",
   "execution_count": 16,
   "id": "d8e1ca7a",
   "metadata": {},
   "outputs": [
    {
     "name": "stdout",
     "output_type": "stream",
     "text": [
      "[3, 5, 7, 9, 11, 13, 15, 17, 19]\n"
     ]
    }
   ],
   "source": [
    "odd_numbers=list(range(3,20,2))\n",
    "print(odd_numbers)"
   ]
  },
  {
   "cell_type": "code",
   "execution_count": null,
   "id": "83cb9eb9",
   "metadata": {},
   "outputs": [],
   "source": []
  }
 ],
 "metadata": {
  "kernelspec": {
   "display_name": "Python 3 (ipykernel)",
   "language": "python",
   "name": "python3"
  },
  "language_info": {
   "codemirror_mode": {
    "name": "ipython",
    "version": 3
   },
   "file_extension": ".py",
   "mimetype": "text/x-python",
   "name": "python",
   "nbconvert_exporter": "python",
   "pygments_lexer": "ipython3",
   "version": "3.9.7"
  }
 },
 "nbformat": 4,
 "nbformat_minor": 5
}
